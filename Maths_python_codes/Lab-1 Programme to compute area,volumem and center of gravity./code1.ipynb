{
 "cells": [
  {
   "cell_type": "code",
   "execution_count": null,
   "id": "7776fb7d",
   "metadata": {},
   "outputs": [
    {
     "name": "stdout",
     "output_type": "stream",
     "text": [
      "1/3\n"
     ]
    }
   ],
   "source": [
    "#Example-1\n",
    "from sympy import *\n",
    "x,y,z=symbols('x,y,z')\n",
    "w1=integrate(x**2+y**2,(y,0,x),(x,0,1))\n",
    "print(w1)"
   ]
  },
  {
   "cell_type": "code",
   "execution_count": null,
   "id": "74c255c2",
   "metadata": {},
   "outputs": [
    {
     "name": "stdout",
     "output_type": "stream",
     "text": [
      "81/80\n"
     ]
    }
   ],
   "source": [
    "#Example-2\n",
    "from sympy import *\n",
    "x,y,z=symbols('x,y,z')\n",
    "w2=integrate((x*y*z),(z,0,3-x-y),(y,0,3-x),(x,0,3))\n",
    "print(w2)"
   ]
  },
  {
   "cell_type": "code",
   "execution_count": null,
   "id": "daa4a2c5",
   "metadata": {},
   "outputs": [
    {
     "name": "stdout",
     "output_type": "stream",
     "text": [
      " 3        3\n",
      "x ⋅y   x⋅y \n",
      "──── + ────\n",
      " 3      3  \n",
      " 3        3\n",
      "x ⋅y   x⋅y \n",
      "──── + ────\n",
      " 3      3  \n"
     ]
    }
   ],
   "source": [
    "#Example-3\n",
    "from sympy import *\n",
    "x,y,z=symbols('x,y,z')\n",
    "w3=integrate(x**2+y**2,y,x)\n",
    "pprint(w3)\n",
    "\n",
    "w4=integrate( x**2+y**2,x,y)\n",
    "pprint(w4)"
   ]
  },
  {
   "cell_type": "code",
   "execution_count": null,
   "id": "bafcdc90",
   "metadata": {},
   "outputs": [
    {
     "name": "stdout",
     "output_type": "stream",
     "text": [
      "24.0*pi\n"
     ]
    }
   ],
   "source": [
    "#Area and volume\n",
    "#Example-4\n",
    "from sympy import *\n",
    "x,y=symbols('x,y')\n",
    "a=4\n",
    "b=6\n",
    "w3=4*integrate(1,(y,0,(b/a)*sqrt(a**2-x**2)),(x,0,a))\n",
    "print(w3)"
   ]
  },
  {
   "cell_type": "code",
   "execution_count": null,
   "id": "0f61ccf1",
   "metadata": {},
   "outputs": [
    {
     "name": "stdout",
     "output_type": "stream",
     "text": [
      "     2\n",
      "3⋅π⋅a \n",
      "──────\n",
      "  4   \n"
     ]
    }
   ],
   "source": [
    "#Area of the region R in polar form\n",
    "#Example-5\n",
    "#find the area of the cardioud r=a(1+cos(theta)) by double integration\n",
    "from sympy import *\n",
    "r,t,a=symbols('r,t,a')\n",
    "w3=integrate(r,(r,0,a*(1+cos(t))),(t,0,pi))\n",
    "pprint(w3)"
   ]
  },
  {
   "cell_type": "code",
   "execution_count": null,
   "id": "01128015",
   "metadata": {},
   "outputs": [
    {
     "name": "stdout",
     "output_type": "stream",
     "text": [
      "a*b*c/6\n"
     ]
    }
   ],
   "source": [
    "#Example 6\n",
    "\n",
    "from sympy import *\n",
    "x,y,z,a,b,c=symbols('x,y,z,a,b,c')\n",
    "w2=integrate(1,(z,0,c*(1-x/a-y/b)),(y,0,b*(1-x/a)),(x,0,a))\n",
    "\n",
    "print(w2)"
   ]
  }
 ],
 "metadata": {
  "kernelspec": {
   "display_name": "Python 3",
   "language": "python",
   "name": "python3"
  },
  "language_info": {
   "codemirror_mode": {
    "name": "ipython",
    "version": 3
   },
   "file_extension": ".py",
   "mimetype": "text/x-python",
   "name": "python",
   "nbconvert_exporter": "python",
   "pygments_lexer": "ipython3",
   "version": "3.12.1"
  }
 },
 "nbformat": 4,
 "nbformat_minor": 5
}
