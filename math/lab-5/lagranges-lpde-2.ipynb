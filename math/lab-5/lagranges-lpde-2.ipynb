{
 "cells": [
  {
   "cell_type": "code",
   "execution_count": 2,
   "id": "c9c586de-1f1d-4598-ac0f-e2e2dda746ee",
   "metadata": {},
   "outputs": [
    {
     "name": "stdout",
     "output_type": "stream",
     "text": [
      "  ∂               ∂              \n",
      "2⋅──(F(x, y)) + 3⋅──(F(x, y)) = 1\n",
      "  ∂x              ∂y             \n",
      "\n",
      "\n",
      "          2⋅x   3⋅y               \n",
      "F(x, y) = ─── + ─── + F(3⋅x - 2⋅y)\n",
      "          13    13                \n"
     ]
    }
   ],
   "source": [
    "from sympy import *\n",
    "from sympy.solvers.pde import pdsolve\n",
    "x, y, a = symbols('x y a')\n",
    "F = Function('F')\n",
    "z = F(x,y)\n",
    "zx = z.diff(x)\n",
    "zy = z.diff(y)\n",
    "\n",
    "equation = Eq(2*zx + 3*zy, 1)\n",
    "\n",
    "pprint(equation)\n",
    "print(\"\\n\")\n",
    "sol = pdsolve(equation, z)\n",
    "pprint(sol)"
   ]
  }
 ],
 "metadata": {
  "kernelspec": {
   "display_name": "Python 3 (ipykernel)",
   "language": "python",
   "name": "python3"
  },
  "language_info": {
   "codemirror_mode": {
    "name": "ipython",
    "version": 3
   },
   "file_extension": ".py",
   "mimetype": "text/x-python",
   "name": "python",
   "nbconvert_exporter": "python",
   "pygments_lexer": "ipython3",
   "version": "3.11.7"
  },
  "widgets": {
   "application/vnd.jupyter.widget-state+json": {
    "state": {},
    "version_major": 2,
    "version_minor": 0
   }
  }
 },
 "nbformat": 4,
 "nbformat_minor": 5
}
