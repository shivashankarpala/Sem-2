{
 "cells": [
  {
   "cell_type": "code",
   "execution_count": 1,
   "id": "11506c29-848f-46d4-ac9b-d31a5b7dde57",
   "metadata": {},
   "outputs": [
    {
     "name": "stdout",
     "output_type": "stream",
     "text": [
      " 2 ∂              2 ∂                            \n",
      "x ⋅──(F(x, y)) + y ⋅──(F(x, y)) = (x + y)⋅F(x, y)\n",
      "   ∂x               ∂y                           \n",
      "\n",
      "\n",
      "                   ⎛-x + y⎞\n",
      "F(x, y) = (x - y)⋅F⎜──────⎟\n",
      "                   ⎝ x⋅y  ⎠\n"
     ]
    }
   ],
   "source": [
    "from sympy import *\n",
    "from sympy.solvers.pde import pdsolve\n",
    "x, y, a = symbols('x y a')\n",
    "F = Function('F')\n",
    "z = F(x,y)\n",
    "zx = z.diff(x)\n",
    "zy = z.diff(y)\n",
    "\n",
    "equation = Eq(x**2 * zx + y**2 * zy, (x+y)*z)\n",
    "\n",
    "pprint(equation)\n",
    "print(\"\\n\")\n",
    "sol = pdsolve(equation, z)\n",
    "pprint(sol)"
   ]
  }
 ],
 "metadata": {
  "kernelspec": {
   "display_name": "Python 3 (ipykernel)",
   "language": "python",
   "name": "python3"
  },
  "language_info": {
   "codemirror_mode": {
    "name": "ipython",
    "version": 3
   },
   "file_extension": ".py",
   "mimetype": "text/x-python",
   "name": "python",
   "nbconvert_exporter": "python",
   "pygments_lexer": "ipython3",
   "version": "3.11.7"
  },
  "widgets": {
   "application/vnd.jupyter.widget-state+json": {
    "state": {},
    "version_major": 2,
    "version_minor": 0
   }
  }
 },
 "nbformat": 4,
 "nbformat_minor": 5
}
