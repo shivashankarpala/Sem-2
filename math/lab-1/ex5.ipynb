{
 "cells": [
  {
   "cell_type": "code",
   "execution_count": 1,
   "id": "9293b798-b593-488e-a46e-db5f0f2eacdf",
   "metadata": {},
   "outputs": [
    {
     "name": "stdout",
     "output_type": "stream",
     "text": [
      "24⋅π\n"
     ]
    }
   ],
   "source": [
    "from sympy import *\n",
    "r,t,a = symbols('r t a')\n",
    "\n",
    "a = 4\n",
    "\n",
    "w = 2 * integrate(r, [r, 0, a*(1+cos(t))], [t, 0, pi])\n",
    "\n",
    "pprint(w)"
   ]
  }
 ],
 "metadata": {
  "kernelspec": {
   "display_name": "Python 3 (ipykernel)",
   "language": "python",
   "name": "python3"
  },
  "language_info": {
   "codemirror_mode": {
    "name": "ipython",
    "version": 3
   },
   "file_extension": ".py",
   "mimetype": "text/x-python",
   "name": "python",
   "nbconvert_exporter": "python",
   "pygments_lexer": "ipython3",
   "version": "3.11.7"
  },
  "widgets": {
   "application/vnd.jupyter.widget-state+json": {
    "state": {},
    "version_major": 2,
    "version_minor": 0
   }
  }
 },
 "nbformat": 4,
 "nbformat_minor": 5
}
