{
 "cells": [
  {
   "cell_type": "code",
   "execution_count": 1,
   "id": "31205561-2adb-46b0-a64d-f358dff02e79",
   "metadata": {},
   "outputs": [
    {
     "name": "stdout",
     "output_type": "stream",
     "text": [
      "a⋅b⋅c\n",
      "─────\n",
      "  6  \n"
     ]
    }
   ],
   "source": [
    "from sympy import *\n",
    "x,y,z = symbols('x y z')\n",
    "a,b,c = symbols('a b c')\n",
    "\n",
    "w = integrate(1, [z, 0, c*(1-x/a-y/b)], [y, 0, b*(1-x/a)], [x, 0, a])\n",
    "pprint(w)"
   ]
  }
 ],
 "metadata": {
  "kernelspec": {
   "display_name": "Python 3 (ipykernel)",
   "language": "python",
   "name": "python3"
  },
  "language_info": {
   "codemirror_mode": {
    "name": "ipython",
    "version": 3
   },
   "file_extension": ".py",
   "mimetype": "text/x-python",
   "name": "python",
   "nbconvert_exporter": "python",
   "pygments_lexer": "ipython3",
   "version": "3.11.7"
  },
  "widgets": {
   "application/vnd.jupyter.widget-state+json": {
    "state": {},
    "version_major": 2,
    "version_minor": 0
   }
  }
 },
 "nbformat": 4,
 "nbformat_minor": 5
}
