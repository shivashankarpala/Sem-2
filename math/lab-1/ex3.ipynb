{
 "cells": [
  {
   "cell_type": "code",
   "execution_count": 7,
   "id": "0e4c2467-bb50-44e5-a07e-95f96f806061",
   "metadata": {},
   "outputs": [
    {
     "name": "stdout",
     "output_type": "stream",
     "text": [
      " 3        3\n",
      "x ⋅y   x⋅y \n",
      "──── + ────\n",
      " 3      3  \n",
      "\n",
      "\n",
      "\n",
      " 3        3\n",
      "x ⋅y   x⋅y \n",
      "──── + ────\n",
      " 3      3  \n"
     ]
    }
   ],
   "source": [
    "from sympy import *\n",
    "x,y,z = symbols('x y z')\n",
    "\n",
    "w1 = integrate(x**2 + y**2, y, x)\n",
    "w2 = integrate(x**2 + y**2, x, y)\n",
    "\n",
    "pprint(w1)\n",
    "print(\"\\n\\n\")\n",
    "pprint(w2)"
   ]
  }
 ],
 "metadata": {
  "kernelspec": {
   "display_name": "Python 3 (ipykernel)",
   "language": "python",
   "name": "python3"
  },
  "language_info": {
   "codemirror_mode": {
    "name": "ipython",
    "version": 3
   },
   "file_extension": ".py",
   "mimetype": "text/x-python",
   "name": "python",
   "nbconvert_exporter": "python",
   "pygments_lexer": "ipython3",
   "version": "3.11.7"
  },
  "widgets": {
   "application/vnd.jupyter.widget-state+json": {
    "state": {},
    "version_major": 2,
    "version_minor": 0
   }
  }
 },
 "nbformat": 4,
 "nbformat_minor": 5
}
