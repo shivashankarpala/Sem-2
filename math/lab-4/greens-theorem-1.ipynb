{
 "cells": [
  {
   "cell_type": "code",
   "execution_count": 3,
   "id": "f8c7c4bc-520d-4c76-9114-7781dc6fe945",
   "metadata": {},
   "outputs": [
    {
     "name": "stdout",
     "output_type": "stream",
     "text": [
      "I =  -1\n"
     ]
    }
   ],
   "source": [
    "from sympy import *\n",
    "var('x,y')\n",
    "\n",
    "p = x + 2*y \n",
    "q = x - 2*y\n",
    "F = diff(q, x) - diff(p, y)\n",
    "sol = integrate(F, [x,0,1], [y,0,1])\n",
    "print(\"I = \", sol)"
   ]
  }
 ],
 "metadata": {
  "kernelspec": {
   "display_name": "Python 3 (ipykernel)",
   "language": "python",
   "name": "python3"
  },
  "language_info": {
   "codemirror_mode": {
    "name": "ipython",
    "version": 3
   },
   "file_extension": ".py",
   "mimetype": "text/x-python",
   "name": "python",
   "nbconvert_exporter": "python",
   "pygments_lexer": "ipython3",
   "version": "3.11.7"
  },
  "widgets": {
   "application/vnd.jupyter.widget-state+json": {
    "state": {},
    "version_major": 2,
    "version_minor": 0
   }
  }
 },
 "nbformat": 4,
 "nbformat_minor": 5
}
