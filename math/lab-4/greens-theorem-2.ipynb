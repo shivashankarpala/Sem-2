{
 "cells": [
  {
   "cell_type": "code",
   "execution_count": 3,
   "id": "48655b5d-b8c9-469e-b575-ef4687e51daf",
   "metadata": {},
   "outputs": [
    {
     "name": "stdout",
     "output_type": "stream",
     "text": [
      "I =  -1/20\n"
     ]
    }
   ],
   "source": [
    "from sympy import *\n",
    "var('x,y')\n",
    "\n",
    "p = x * y + y**2 \n",
    "q = x**2\n",
    "F = diff(q, x) - diff(p, y)\n",
    "sol = integrate(F, [y, x**2, x], [x,0,1])\n",
    "print(\"I = \", sol)"
   ]
  }
 ],
 "metadata": {
  "kernelspec": {
   "display_name": "Python 3 (ipykernel)",
   "language": "python",
   "name": "python3"
  },
  "language_info": {
   "codemirror_mode": {
    "name": "ipython",
    "version": 3
   },
   "file_extension": ".py",
   "mimetype": "text/x-python",
   "name": "python",
   "nbconvert_exporter": "python",
   "pygments_lexer": "ipython3",
   "version": "3.11.7"
  },
  "widgets": {
   "application/vnd.jupyter.widget-state+json": {
    "state": {},
    "version_major": 2,
    "version_minor": 0
   }
  }
 },
 "nbformat": 4,
 "nbformat_minor": 5
}
