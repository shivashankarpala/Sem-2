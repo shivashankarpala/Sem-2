{
 "cells": [
  {
   "cell_type": "code",
   "execution_count": 14,
   "id": "c8ea16c4-5fc2-431c-986e-0f223a34837e",
   "metadata": {
    "scrolled": true
   },
   "outputs": [
    {
     "name": "stdin",
     "output_type": "stream",
     "text": [
      "Enter the Function:  x**3 - 2*x - 5\n",
      "Value of a:  2\n",
      "Value of b:  3\n",
      "Enter the Tolerance:  0.001\n"
     ]
    },
    {
     "name": "stdout",
     "output_type": "stream",
     "text": [
      "\n",
      "Iteration 1: \n",
      "Root: 2.059\n",
      "Function Value: -0.391\n",
      "\n",
      "Iteration 2: \n",
      "Root: 2.081\n",
      "Function Value: -0.147\n",
      "\n",
      "Iteration 3: \n",
      "Root: 2.090\n",
      "Function Value: -0.055\n",
      "\n",
      "Iteration 4: \n",
      "Root: 2.093\n",
      "Function Value: -0.020\n",
      "\n",
      "Iteration 5: \n",
      "Root: 2.094\n",
      "Function Value: -0.007\n",
      "\n",
      "Iteration 6: \n",
      "Root: 2.094\n",
      "Function Value: -0.003\n",
      "\n",
      "\n",
      "FinalRoot: 2.094\n"
     ]
    }
   ],
   "source": [
    "from sympy import *\n",
    "x = Symbol('x')\n",
    "\n",
    "g = input('Enter the Function: ')\n",
    "a = float(input('Value of a: '))\n",
    "b = float(input('Value of b: '))\n",
    "n = float(input('Enter the Tolerance: '))\n",
    "\n",
    "f = lambdify(x,g)\n",
    "i = 0\n",
    "x = a\n",
    "c = b\n",
    "\n",
    "while (abs(x-c) >= n):\n",
    "    x = c\n",
    "    c = (a * f(b) - b * f(a)) / (f(b) - f(a))\n",
    "    \n",
    "    if ((f(a) * f(c)) < 0):\n",
    "        b = c\n",
    "    else:\n",
    "        a = c\n",
    "        i += 1\n",
    "\n",
    "    print(f'\\nIteration {i}: ')\n",
    "    print(f'Root: {c:.3f}')\n",
    "    print(f'Function Value: {f(c):.3f}')\n",
    "\n",
    "print(f'\\n\\nFinal Root: {c:.3f}')"
   ]
  }
 ],
 "metadata": {
  "kernelspec": {
   "display_name": "Python 3 (ipykernel)",
   "language": "python",
   "name": "python3"
  },
  "language_info": {
   "codemirror_mode": {
    "name": "ipython",
    "version": 3
   },
   "file_extension": ".py",
   "mimetype": "text/x-python",
   "name": "python",
   "nbconvert_exporter": "python",
   "pygments_lexer": "ipython3",
   "version": "3.11.7"
  },
  "widgets": {
   "application/vnd.jupyter.widget-state+json": {
    "state": {},
    "version_major": 2,
    "version_minor": 0
   }
  }
 },
 "nbformat": 4,
 "nbformat_minor": 5
}
