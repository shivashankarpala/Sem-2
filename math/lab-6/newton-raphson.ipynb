{
 "cells": [
  {
   "cell_type": "code",
   "execution_count": 5,
   "id": "c85afde2-f408-4a51-978d-8b045c1e5fce",
   "metadata": {},
   "outputs": [
    {
     "name": "stdout",
     "output_type": "stream",
     "text": [
      "\n",
      "Iteration 1: \n",
      "Root: 0.620\n",
      "Function Value: 0.046\n",
      "\n",
      "Iteration 2: \n",
      "Root: 0.607\n",
      "Function Value: 0.000\n",
      "\n",
      "Iteration 3: \n",
      "Root: 0.607\n",
      "Function Value: 0.000\n",
      "\n",
      "Final Root: 0.607\n"
     ]
    }
   ],
   "source": [
    "from sympy import *\n",
    "x = Symbol('x')\n",
    "\n",
    "g = input('Enter the Function: ')\n",
    "x0 = float(input('Initial Approximation: '))\n",
    "n = int(input('Number of Iterations: '))\n",
    "\n",
    "dg = diff(g)\n",
    "f = lambdify(x, g)\n",
    "df = lambdify(x, dg)\n",
    "\n",
    "for i in range(n):\n",
    "    x1 = x0 - (f(x0) / df(x0))\n",
    "\n",
    "    x0 = x1\n",
    "    print(f'\\nIteration {i+1}: ')\n",
    "    print(f'Root: {x1:.3f}')\n",
    "    print(f'Function Value: {f(x1):.3f}')\n",
    "print(f'\\nFinal Root: {x1:.3f}')\n"
   ]
  }
 ],
 "metadata": {
  "kernelspec": {
   "display_name": "Python 3",
   "language": "python",
   "name": "python3"
  },
  "language_info": {
   "codemirror_mode": {
    "name": "ipython",
    "version": 3
   },
   "file_extension": ".py",
   "mimetype": "text/x-python",
   "name": "python",
   "nbconvert_exporter": "python",
   "pygments_lexer": "ipython3",
   "version": "3.13.3"
  },
  "widgets": {
   "application/vnd.jupyter.widget-state+json": {
    "state": {},
    "version_major": 2,
    "version_minor": 0
   }
  }
 },
 "nbformat": 4,
 "nbformat_minor": 5
}
