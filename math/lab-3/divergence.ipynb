{
 "cells": [
  {
   "cell_type": "code",
   "execution_count": 2,
   "id": "af79ae1e-f7d7-4aa7-b4d8-2ab52da29768",
   "metadata": {},
   "outputs": [
    {
     "data": {
      "text/latex": [
       "$\\displaystyle \\frac{\\partial}{\\partial \\mathbf{{z}_{N}}} \\mathbf{{x}_{N}} \\mathbf{{y}_{N}} \\mathbf{{z}_{N}}^{2} + \\frac{\\partial}{\\partial \\mathbf{{y}_{N}}} \\mathbf{{x}_{N}} \\mathbf{{y}_{N}}^{2} \\mathbf{{z}_{N}} + \\frac{\\partial}{\\partial \\mathbf{{x}_{N}}} \\mathbf{{x}_{N}}^{2} \\mathbf{{y}_{N}} \\mathbf{{z}_{N}}$"
      ],
      "text/plain": [
       "Derivative(N.x*N.y*N.z**2, N.z) + Derivative(N.x*N.y**2*N.z, N.y) + Derivative(N.x**2*N.y*N.z, N.x)"
      ]
     },
     "metadata": {},
     "output_type": "display_data"
    },
    {
     "name": "stdout",
     "output_type": "stream",
     "text": [
      "\n",
      "Divergence of  N.x**2*N.y*N.z*N.i + N.x*N.y**2*N.z*N.j + N.x*N.y*N.z**2*N.k  is \n",
      "\n"
     ]
    },
    {
     "data": {
      "text/latex": [
       "$\\displaystyle 6 \\mathbf{{x}_{N}} \\mathbf{{y}_{N}} \\mathbf{{z}_{N}}$"
      ],
      "text/plain": [
       "6*N.x*N.y*N.z"
      ]
     },
     "metadata": {},
     "output_type": "display_data"
    }
   ],
   "source": [
    "from sympy import *\n",
    "from sympy.vector import *\n",
    "\n",
    "N = CoordSys3D('N')\n",
    "x,y,z = symbols('x y z')\n",
    "\n",
    "A = N.x**2 * N.y * N.z * N.i + N.y**2 * N.x * N.z * N.j + N.z**2 * N.x * N.y * N.k\n",
    "\n",
    "delop = Del()\n",
    "dotA = delop.dot(A)\n",
    "divA = divergence(A)\n",
    "\n",
    "display(dotA)\n",
    "print(\"\\nDivergence of \", A,\" is \\n\")\n",
    "display(divA)"
   ]
  }
 ],
 "metadata": {
  "kernelspec": {
   "display_name": "Python 3",
   "language": "python",
   "name": "python3"
  },
  "language_info": {
   "codemirror_mode": {
    "name": "ipython",
    "version": 3
   },
   "file_extension": ".py",
   "mimetype": "text/x-python",
   "name": "python",
   "nbconvert_exporter": "python",
   "pygments_lexer": "ipython3",
   "version": "3.13.3"
  },
  "widgets": {
   "application/vnd.jupyter.widget-state+json": {
    "state": {},
    "version_major": 2,
    "version_minor": 0
   }
  }
 },
 "nbformat": 4,
 "nbformat_minor": 5
}
