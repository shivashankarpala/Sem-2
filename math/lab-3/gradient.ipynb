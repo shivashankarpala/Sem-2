{
 "cells": [
  {
   "cell_type": "code",
   "execution_count": 3,
   "id": "70dc7173-2012-4dd1-9061-7962c8096340",
   "metadata": {},
   "outputs": [
    {
     "data": {
      "text/latex": [
       "$\\displaystyle \\left(\\frac{\\partial}{\\partial \\mathbf{{x}_{N}}} \\left(\\mathbf{{x}_{N}}^{2} \\mathbf{{y}_{N}} + 2 \\mathbf{{x}_{N}} \\mathbf{{z}_{N}} - 4\\right)\\right)\\mathbf{\\hat{i}_{N}} + \\left(\\frac{\\partial}{\\partial \\mathbf{{y}_{N}}} \\left(\\mathbf{{x}_{N}}^{2} \\mathbf{{y}_{N}} + 2 \\mathbf{{x}_{N}} \\mathbf{{z}_{N}} - 4\\right)\\right)\\mathbf{\\hat{j}_{N}} + \\left(\\frac{\\partial}{\\partial \\mathbf{{z}_{N}}} \\left(\\mathbf{{x}_{N}}^{2} \\mathbf{{y}_{N}} + 2 \\mathbf{{x}_{N}} \\mathbf{{z}_{N}} - 4\\right)\\right)\\mathbf{\\hat{k}_{N}}$"
      ],
      "text/plain": [
       "(Derivative(N.x**2*N.y + 2*N.x*N.z - 4, N.x))*N.i + (Derivative(N.x**2*N.y + 2*N.x*N.z - 4, N.y))*N.j + (Derivative(N.x**2*N.y + 2*N.x*N.z - 4, N.z))*N.k"
      ]
     },
     "metadata": {},
     "output_type": "display_data"
    },
    {
     "name": "stdout",
     "output_type": "stream",
     "text": [
      "\n",
      "Gradient of  N.x**2*N.y + 2*N.x*N.z - 4  is \n",
      "\n"
     ]
    },
    {
     "data": {
      "text/latex": [
       "$\\displaystyle \\left(2 \\mathbf{{x}_{N}} \\mathbf{{y}_{N}} + 2 \\mathbf{{z}_{N}}\\right)\\mathbf{\\hat{i}_{N}} + \\left(\\mathbf{{x}_{N}}^{2}\\right)\\mathbf{\\hat{j}_{N}} + \\left(2 \\mathbf{{x}_{N}}\\right)\\mathbf{\\hat{k}_{N}}$"
      ],
      "text/plain": [
       "(2*N.x*N.y + 2*N.z)*N.i + N.x**2*N.j + 2*N.x*N.k"
      ]
     },
     "metadata": {},
     "output_type": "display_data"
    }
   ],
   "source": [
    "from sympy import *\n",
    "from sympy.vector import *\n",
    "\n",
    "N = CoordSys3D('N')\n",
    "x,y,z = symbols('x y z')\n",
    "\n",
    "A = N.x**2 * N.y + 2 * N.x * N.z - 4\n",
    "\n",
    "delop = Del()\n",
    "gradA = gradient(A)\n",
    "\n",
    "display(delop(A))\n",
    "print(\"\\nGradient of \", A,\" is \\n\")\n",
    "display(gradA)"
   ]
  }
 ],
 "metadata": {
  "kernelspec": {
   "display_name": "Python 3",
   "language": "python",
   "name": "python3"
  },
  "language_info": {
   "codemirror_mode": {
    "name": "ipython",
    "version": 3
   },
   "file_extension": ".py",
   "mimetype": "text/x-python",
   "name": "python",
   "nbconvert_exporter": "python",
   "pygments_lexer": "ipython3",
   "version": "3.13.3"
  },
  "widgets": {
   "application/vnd.jupyter.widget-state+json": {
    "state": {},
    "version_major": 2,
    "version_minor": 0
   }
  }
 },
 "nbformat": 4,
 "nbformat_minor": 5
}
