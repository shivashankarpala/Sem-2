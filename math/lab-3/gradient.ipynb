{
 "cells": [
  {
   "cell_type": "code",
   "execution_count": 2,
   "id": "70dc7173-2012-4dd1-9061-7962c8096340",
   "metadata": {},
   "outputs": [
    {
     "ename": "TypeError",
     "evalue": "Del.__new__() takes 1 positional argument but 2 were given",
     "output_type": "error",
     "traceback": [
      "\u001b[1;31m---------------------------------------------------------------------------\u001b[0m",
      "\u001b[1;31mTypeError\u001b[0m                                 Traceback (most recent call last)",
      "Cell \u001b[1;32mIn[2], line 9\u001b[0m\n\u001b[0;32m      5\u001b[0m x,y,z \u001b[38;5;241m=\u001b[39m symbols(\u001b[38;5;124m'\u001b[39m\u001b[38;5;124mx y z\u001b[39m\u001b[38;5;124m'\u001b[39m)\n\u001b[0;32m      7\u001b[0m A \u001b[38;5;241m=\u001b[39m N\u001b[38;5;241m.\u001b[39mx\u001b[38;5;241m*\u001b[39m\u001b[38;5;241m*\u001b[39m\u001b[38;5;241m2\u001b[39m \u001b[38;5;241m*\u001b[39m N\u001b[38;5;241m.\u001b[39my \u001b[38;5;241m+\u001b[39m \u001b[38;5;241m2\u001b[39m \u001b[38;5;241m*\u001b[39m N\u001b[38;5;241m.\u001b[39mx \u001b[38;5;241m*\u001b[39m N\u001b[38;5;241m.\u001b[39mz \u001b[38;5;241m-\u001b[39m \u001b[38;5;241m4\u001b[39m\n\u001b[1;32m----> 9\u001b[0m display(Del(A))\n\u001b[0;32m     10\u001b[0m gradA \u001b[38;5;241m=\u001b[39m gradient(A)\n\u001b[0;32m     12\u001b[0m \u001b[38;5;28mprint\u001b[39m(\u001b[38;5;124m\"\u001b[39m\u001b[38;5;130;01m\\n\u001b[39;00m\u001b[38;5;124mGradient of \u001b[39m\u001b[38;5;124m\"\u001b[39m, A,\u001b[38;5;124m\"\u001b[39m\u001b[38;5;124m is \u001b[39m\u001b[38;5;130;01m\\n\u001b[39;00m\u001b[38;5;124m\"\u001b[39m)\n",
      "\u001b[1;31mTypeError\u001b[0m: Del.__new__() takes 1 positional argument but 2 were given"
     ]
    }
   ],
   "source": [
    "from sympy import symbols\n",
    "from sympy.vector import *\n",
    "\n",
    "N = CoordSys3D('N')\n",
    "x,y,z = symbols('x y z')\n",
    "\n",
    "A = N.x**2 * N.y + 2 * N.x * N.z - 4\n",
    "\n",
    "delop = Del()\n",
    "display(delop(A))\n",
    "gradA = gradient(A)\n",
    "\n",
    "print(\"\\nGradient of \", A,\" is \\n\")\n",
    "display(gradA)"
   ]
  }
 ],
 "metadata": {
  "kernelspec": {
   "display_name": "Python 3 (ipykernel)",
   "language": "python",
   "name": "python3"
  },
  "language_info": {
   "codemirror_mode": {
    "name": "ipython",
    "version": 3
   },
   "file_extension": ".py",
   "mimetype": "text/x-python",
   "name": "python",
   "nbconvert_exporter": "python",
   "pygments_lexer": "ipython3",
   "version": "3.11.7"
  },
  "widgets": {
   "application/vnd.jupyter.widget-state+json": {
    "state": {},
    "version_major": 2,
    "version_minor": 0
   }
  }
 },
 "nbformat": 4,
 "nbformat_minor": 5
}
