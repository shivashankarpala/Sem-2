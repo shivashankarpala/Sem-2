{
 "cells": [
  {
   "cell_type": "code",
   "execution_count": null,
   "id": "0bfd7d53-d91c-405b-b056-e8fd035a90a5",
   "metadata": {},
   "outputs": [
    {
     "name": "stdout",
     "output_type": "stream",
     "text": [
      "The value of y, at x = 1.40 is approximately 2.5840\n"
     ]
    }
   ],
   "source": [
    "def f(x, y):\n",
    "    return x**2 + 0.5*y\n",
    "\n",
    "x0 = 1\n",
    "y0 = 2\n",
    "h= 0.1\n",
    "\n",
    "x1 = x0 + h\n",
    "x2 = x1 + h\n",
    "x3 = x2 + h\n",
    "x4 = x3 + h\n",
    "\n",
    "y1 = 2.2156\n",
    "y2 = 2.4649\n",
    "y3 = 2.7514\n",
    "\n",
    "y0a = f(x0, y0)\n",
    "y1a = f(x1, y1)\n",
    "y2a = f(x2, y2)\n",
    "y3a = f(x3, y3)\n",
    "\n",
    "y4p = y0 + (4*h / 3) * (2*y1a - y2a + 2* y3a)\n",
    "y4a = f(x4, y4p)\n",
    "\n",
    "print(f\"Pridiced value of y4: {y4p:.4f}\")\n",
    "\n",
    "for i in range(4):\n",
    "    y4 = y0 + (h/3) * (y2a + 4*y3a + y4a)\n",
    "    y4a = y4\n",
    "    print(f\"Correction {i+1}: y4 = {y4:.4f}\")\n",
    "\n",
    "print(f\"The value of y, at x = {x4:.2f} is approximately {y4:.4f}\")"
   ]
  }
 ],
 "metadata": {
  "kernelspec": {
   "display_name": "Python 3",
   "language": "python",
   "name": "python3"
  },
  "language_info": {
   "codemirror_mode": {
    "name": "ipython",
    "version": 3
   },
   "file_extension": ".py",
   "mimetype": "text/x-python",
   "name": "python",
   "nbconvert_exporter": "python",
   "pygments_lexer": "ipython3",
   "version": "3.13.3"
  },
  "widgets": {
   "application/vnd.jupyter.widget-state+json": {
    "state": {},
    "version_major": 2,
    "version_minor": 0
   }
  }
 },
 "nbformat": 4,
 "nbformat_minor": 5
}
