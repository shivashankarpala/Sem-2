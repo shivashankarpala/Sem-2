{
 "cells": [
  {
   "cell_type": "code",
   "execution_count": 10,
   "id": "b9ef0486-48fa-484f-8ee3-cf1e1bdc5620",
   "metadata": {},
   "outputs": [
    {
     "name": "stdout",
     "output_type": "stream",
     "text": [
      "[2.    2.631 3.295 3.988 4.707 5.447]\n"
     ]
    }
   ],
   "source": [
    "from sympy import *\n",
    "import numpy as np\n",
    "\n",
    "def range_kutta(g, x0, y0, xn, h):\n",
    "    x, y = symbols('x y')\n",
    "    f = lambdify ([x,y], g)\n",
    "    Y = [y0]\n",
    "    x1 = x0 + h\n",
    "\n",
    "    while x1 <= xn:\n",
    "        \n",
    "        k1 = h * f(x0, y0)\n",
    "        k2 = h * f((x0+h)/2, (y0+k1)/2)\n",
    "        k3 = h * f((x0+h)/2, (y0+k2)/2)\n",
    "        k4 = h * f(x0+h, y0+k3)\n",
    "\n",
    "        y1 = y0 + (1/6)* (k1 + 2*k2 + 2*k3 + k4)\n",
    "        Y.append(y1)\n",
    "\n",
    "        x0 = x1\n",
    "        y0 = y1\n",
    "        x1 = x0 + h\n",
    "    return np.round(Y, 3)\n",
    "\n",
    "print(range_kutta('1+(y/x)', 1, 2, 2, 0.2))"
   ]
  }
 ],
 "metadata": {
  "kernelspec": {
   "display_name": "Python 3 (ipykernel)",
   "language": "python",
   "name": "python3"
  },
  "language_info": {
   "codemirror_mode": {
    "name": "ipython",
    "version": 3
   },
   "file_extension": ".py",
   "mimetype": "text/x-python",
   "name": "python",
   "nbconvert_exporter": "python",
   "pygments_lexer": "ipython3",
   "version": "3.11.7"
  },
  "widgets": {
   "application/vnd.jupyter.widget-state+json": {
    "state": {},
    "version_major": 2,
    "version_minor": 0
   }
  }
 },
 "nbformat": 4,
 "nbformat_minor": 5
}
