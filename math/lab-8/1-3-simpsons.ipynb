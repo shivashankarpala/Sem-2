{
 "cells": [
  {
   "cell_type": "code",
   "execution_count": 1,
   "id": "ce78fd2f-672a-4d39-b73b-adb461126749",
   "metadata": {},
   "outputs": [
    {
     "name": "stdin",
     "output_type": "stream",
     "text": [
      "Enter Lower-Limit:  0\n",
      "Enter Upper-Limit:  5\n",
      "Number of Sub-Intervals:  10\n"
     ]
    },
    {
     "name": "stdout",
     "output_type": "stream",
     "text": [
      "Result by Simpsons 1/3 Method: 1.673414793073027\n"
     ]
    }
   ],
   "source": [
    "def func(x):\n",
    "    #Function to be integrated on\n",
    "    return 1/(1+ x**2)\n",
    "\n",
    "def simpsons_1_3(x0, xn, n):\n",
    "    h = (xn - x0)/n\n",
    "    solution = func(x0) + func(xn)\n",
    "    k = x0\n",
    "    \n",
    "    for i in range(1, n):\n",
    "        if i %2 == 0:\n",
    "            solution += 4*func(k)\n",
    "        else:\n",
    "            solution += 2* func(k)\n",
    "        k += h\n",
    "    solution *= (h/3)\n",
    "    return solution\n",
    "\n",
    "lower_limit = float(input(\"Enter Lower-Limit: \"))\n",
    "upper_limit = float(input(\"Enter Upper-Limit: \"))\n",
    "sub_interval = int(input(\"Number of Sub-Intervals: \"))\n",
    "\n",
    "result = simpsons_1_3(lower_limit, upper_limit, sub_interval)\n",
    "print(f\"Result by Simpsons 1/3 Method: {result}\")"
   ]
  }
 ],
 "metadata": {
  "kernelspec": {
   "display_name": "Python 3 (ipykernel)",
   "language": "python",
   "name": "python3"
  },
  "language_info": {
   "codemirror_mode": {
    "name": "ipython",
    "version": 3
   },
   "file_extension": ".py",
   "mimetype": "text/x-python",
   "name": "python",
   "nbconvert_exporter": "python",
   "pygments_lexer": "ipython3",
   "version": "3.11.7"
  }
 },
 "nbformat": 4,
 "nbformat_minor": 5
}
