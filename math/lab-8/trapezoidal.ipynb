{
 "cells": [
  {
   "cell_type": "code",
   "execution_count": 4,
   "id": "e4097dfc-ea67-4250-8918-86fe01ae0151",
   "metadata": {},
   "outputs": [
    {
     "name": "stdin",
     "output_type": "stream",
     "text": [
      "Enter Lower-Limit:  0\n",
      "Enter Upper-Limit:  5\n",
      "Number of Sub-Intervals:  10\n"
     ]
    },
    {
     "name": "stdout",
     "output_type": "stream",
     "text": [
      "Result by Trapezoidal Method: 1.3731040812301099\n"
     ]
    }
   ],
   "source": [
    "def func(x):\n",
    "    #Function to be integrated on\n",
    "    return 1/(1+ x**2)\n",
    "\n",
    "def trapezoidal(x0, xn, n):\n",
    "    h = (xn - x0)/n\n",
    "    solution = func(x0) + func(xn)\n",
    "\n",
    "    for i in range(1, n):\n",
    "        k = x0 + i*h\n",
    "        solution += 2*func(k)\n",
    "    solution *= (h/2)\n",
    "    return solution\n",
    "\n",
    "lower_limit = float(input(\"Enter Lower-Limit: \"))\n",
    "upper_limit = float(input(\"Enter Upper-Limit: \"))\n",
    "sub_interval = int(input(\"Number of Sub-Intervals: \"))\n",
    "\n",
    "result = trapezoidal(lower_limit, upper_limit, sub_interval)\n",
    "print(f\"Result by Trapezoidal Method: {result}\")"
   ]
  }
 ],
 "metadata": {
  "kernelspec": {
   "display_name": "Python 3 (ipykernel)",
   "language": "python",
   "name": "python3"
  },
  "language_info": {
   "codemirror_mode": {
    "name": "ipython",
    "version": 3
   },
   "file_extension": ".py",
   "mimetype": "text/x-python",
   "name": "python",
   "nbconvert_exporter": "python",
   "pygments_lexer": "ipython3",
   "version": "3.11.7"
  }
 },
 "nbformat": 4,
 "nbformat_minor": 5
}
