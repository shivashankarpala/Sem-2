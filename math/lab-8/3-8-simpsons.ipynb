{
 "cells": [
  {
   "cell_type": "code",
   "execution_count": 1,
   "id": "bab67e1b-802d-43af-b530-bceedc5b1bb9",
   "metadata": {},
   "outputs": [
    {
     "name": "stdin",
     "output_type": "stream",
     "text": [
      "Enter Lower-Limit:  0\n",
      "Enter Upper-Limit:  5\n",
      "Number of Sub-Intervals:  10\n"
     ]
    },
    {
     "name": "stdout",
     "output_type": "stream",
     "text": [
      "Result by Simpsons 3/8 Method: 1.2682154296581751\n"
     ]
    }
   ],
   "source": [
    "def func(x):\n",
    "    #Function to be integrated on\n",
    "    return 1/(1+ x**2)\n",
    "\n",
    "def simpsons_3_8(x0, xn, n):\n",
    "    h = (xn - x0)/n\n",
    "    solution = func(x0) + func(xn)\n",
    "    \n",
    "    for i in range(1, n, 3):\n",
    "            solution += 3*func(x0+ i*h)\n",
    "        \n",
    "    for i in range(3, n-1, 3):\n",
    "            solution += 3*func(x0+ i*h)\n",
    "        \n",
    "    for i in range(2, n-2, 3):\n",
    "            solution += 2* func(x0+ i*h)\n",
    "\n",
    "                  \n",
    "    solution *= (3*h/8)\n",
    "    return solution\n",
    "\n",
    "lower_limit = float(input(\"Enter Lower-Limit: \"))\n",
    "upper_limit = float(input(\"Enter Upper-Limit: \"))\n",
    "sub_interval = int(input(\"Number of Sub-Intervals: \"))\n",
    "\n",
    "result = simpsons_3_8(lower_limit, upper_limit, sub_interval)\n",
    "print(f\"Result by Simpsons 3/8 Method: {result}\")"
   ]
  }
 ],
 "metadata": {
  "kernelspec": {
   "display_name": "Python 3 (ipykernel)",
   "language": "python",
   "name": "python3"
  },
  "language_info": {
   "codemirror_mode": {
    "name": "ipython",
    "version": 3
   },
   "file_extension": ".py",
   "mimetype": "text/x-python",
   "name": "python",
   "nbconvert_exporter": "python",
   "pygments_lexer": "ipython3",
   "version": "3.11.7"
  },
  "widgets": {
   "application/vnd.jupyter.widget-state+json": {
    "state": {},
    "version_major": 2,
    "version_minor": 0
   }
  }
 },
 "nbformat": 4,
 "nbformat_minor": 5
}
