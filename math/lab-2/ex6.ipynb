{
 "cells": [
  {
   "cell_type": "code",
   "execution_count": 2,
   "id": "55a425b9-9774-44ea-9c1d-0dc3452080bb",
   "metadata": {},
   "outputs": [
    {
     "name": "stdin",
     "output_type": "stream",
     "text": [
      "m: 5\n",
      "n: 7\n"
     ]
    },
    {
     "name": "stdout",
     "output_type": "stream",
     "text": [
      "0.000432900432900433 0.000432900432900433\n",
      "Beta and Gamma are Related\n"
     ]
    }
   ],
   "source": [
    "from sympy import beta, gamma\n",
    "m = float(input(\"m:\"))\n",
    "n = float(input(\"n:\"))\n",
    "\n",
    "s = beta(m,n)\n",
    "t = (gamma(m) * gamma(n)) / gamma(m+n)\n",
    "\n",
    "print(s,t)\n",
    "\n",
    "if(abs(s-t) <= 0.00001):\n",
    "    print(\"Beta and Gamma are Related\")\n",
    "else:\n",
    "    print(\"Invalid Input\")\n"
   ]
  }
 ],
 "metadata": {
  "kernelspec": {
   "display_name": "Python 3 (ipykernel)",
   "language": "python",
   "name": "python3"
  },
  "language_info": {
   "codemirror_mode": {
    "name": "ipython",
    "version": 3
   },
   "file_extension": ".py",
   "mimetype": "text/x-python",
   "name": "python",
   "nbconvert_exporter": "python",
   "pygments_lexer": "ipython3",
   "version": "3.11.7"
  },
  "widgets": {
   "application/vnd.jupyter.widget-state+json": {
    "state": {},
    "version_major": 2,
    "version_minor": 0
   }
  }
 },
 "nbformat": 4,
 "nbformat_minor": 5
}
