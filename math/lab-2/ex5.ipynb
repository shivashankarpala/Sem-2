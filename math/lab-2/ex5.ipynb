{
 "cells": [
  {
   "cell_type": "code",
   "execution_count": 2,
   "id": "b2e670b0-1b40-49fb-8d85-534831239db5",
   "metadata": {},
   "outputs": [
    {
     "name": "stdin",
     "output_type": "stream",
     "text": [
      "m: 3.5\n",
      "n: 2.5\n"
     ]
    },
    {
     "name": "stdout",
     "output_type": "stream",
     "text": [
      "Gamma(2.5) = 1.3293\n",
      "Beta(3.5,2.5) = 0.0368\n"
     ]
    }
   ],
   "source": [
    "from sympy import beta, gamma\n",
    "m = float(input(\"m:\"))\n",
    "n = float(input(\"n:\"))\n",
    "\n",
    "t = round(gamma(n), 4);\n",
    "s = round(beta(m,n), 4)\n",
    "\n",
    "print(f\"Gamma({n}) = {t}\")\n",
    "print(f\"Beta({m},{n}) = {s}\")"
   ]
  }
 ],
 "metadata": {
  "kernelspec": {
   "display_name": "Python 3 (ipykernel)",
   "language": "python",
   "name": "python3"
  },
  "language_info": {
   "codemirror_mode": {
    "name": "ipython",
    "version": 3
   },
   "file_extension": ".py",
   "mimetype": "text/x-python",
   "name": "python",
   "nbconvert_exporter": "python",
   "pygments_lexer": "ipython3",
   "version": "3.11.7"
  },
  "widgets": {
   "application/vnd.jupyter.widget-state+json": {
    "state": {},
    "version_major": 2,
    "version_minor": 0
   }
  }
 },
 "nbformat": 4,
 "nbformat_minor": 5
}
