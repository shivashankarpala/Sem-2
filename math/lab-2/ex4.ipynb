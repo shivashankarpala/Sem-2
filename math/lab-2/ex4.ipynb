{
 "cells": [
  {
   "cell_type": "code",
   "execution_count": 13,
   "id": "1f8b51e3-67ac-4633-99ea-5c71c45b02e8",
   "metadata": {},
   "outputs": [
    {
     "name": "stdin",
     "output_type": "stream",
     "text": [
      "m: 3\n",
      "n: 5\n"
     ]
    },
    {
     "name": "stdout",
     "output_type": "stream",
     "text": [
      "Gamma(5.0) = 24.0000000000000\n",
      "Beta(3.0,5.0) = 0.0095\n"
     ]
    }
   ],
   "source": [
    "from sympy import beta, gamma\n",
    "m = float(input(\"m:\"))\n",
    "n = float(input(\"n:\"))\n",
    "\n",
    "t = round(gamma(n), 4)\n",
    "s = round(beta(m,n), 4)\n",
    "\n",
    "print(f\"Gamma({n}) = {t}\")\n",
    "print(f\"Beta({m},{n}) = {s}\")"
   ]
  }
 ],
 "metadata": {
  "kernelspec": {
   "display_name": "Python 3 (ipykernel)",
   "language": "python",
   "name": "python3"
  },
  "language_info": {
   "codemirror_mode": {
    "name": "ipython",
    "version": 3
   },
   "file_extension": ".py",
   "mimetype": "text/x-python",
   "name": "python",
   "nbconvert_exporter": "python",
   "pygments_lexer": "ipython3",
   "version": "3.11.7"
  },
  "widgets": {
   "application/vnd.jupyter.widget-state+json": {
    "state": {},
    "version_major": 2,
    "version_minor": 0
   }
  }
 },
 "nbformat": 4,
 "nbformat_minor": 5
}
