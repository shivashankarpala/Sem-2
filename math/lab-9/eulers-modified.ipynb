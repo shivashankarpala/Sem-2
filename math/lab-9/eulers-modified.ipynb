{
  "cells": [
    {
      "cell_type": "code",
      "execution_count": 9,
      "id": "127b9b49-32eb-42c4-99d6-757d48db3136",
      "metadata": {
        "trusted": true
      },
      "outputs": [
        {
          "name": "stdout",
          "output_type": "stream",
          "text": [
            "The required value at x = 100.000, y = 31.852\n"
          ]
        }
      ],
      "source": [
        "import numpy as np\n",
        "\n",
        "def modified_euler(x0 , y0 , h ,n ):\n",
        "   x = np.zeros( n+1 )\n",
        "   y = np.zeros( n+1 )\n",
        "   x[0] = x0\n",
        "   y[0] = y0\n",
        "\n",
        "   for i in range ( n ):\n",
        "     x[i+1] = x[i] + h\n",
        "     k1 = f(x[i], y[i])\n",
        "     k2 = f(x[i+1], y[i] + k1)\n",
        "     y[i+1] = y[i] +  h/2 * (k1 + k2)\n",
        "\n",
        "   return x, y\n",
        "\n",
        "def f (x , y):\n",
        "   return -0.01 * y # ODE dy/dx = -ky\n",
        "\n",
        "x0 = 0.0\n",
        "y0 = 100 \n",
        "h = 25\n",
        "n = 4\n",
        "x , y = modified_euler (x0, y0, h, n)\n",
        "print(f\"The required value at x = {x[n]:.3f}, y = {y[n]:.3f}\")"
      ]
    }
  ],
  "metadata": {
    "kernelspec": {
      "display_name": "Python 3",
      "language": "python",
      "name": "python3"
    },
    "language_info": {
      "codemirror_mode": {
        "name": "ipython",
        "version": 3
      },
      "file_extension": ".py",
      "mimetype": "text/x-python",
      "name": "python",
      "nbconvert_exporter": "python",
      "pygments_lexer": "ipython3",
      "version": "3.13.3"
    }
  },
  "nbformat": 4,
  "nbformat_minor": 5
}
