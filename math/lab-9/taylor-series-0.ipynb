{
 "cells": [
  {
   "cell_type": "code",
   "execution_count": 4,
   "id": "16762732-6848-4b42-83d7-5189f4fbdbc5",
   "metadata": {},
   "outputs": [
    {
     "data": {
      "text/latex": [
       "$\\displaystyle 0.2$"
      ],
      "text/plain": [
       "0.200000000000000"
      ]
     },
     "metadata": {},
     "output_type": "display_data"
    }
   ],
   "source": [
    "from sympy import *\n",
    "\n",
    "x, z = symbols('x z')\n",
    "y = Function('Y')(x)\n",
    "\n",
    "y1 = x + y\n",
    "x0 = 1\n",
    "y0 = 0\n",
    "\n",
    "y1 = y1.subs({x:x0, y:y0})\n",
    "\n",
    "y2 = diff(y1, x)\n",
    "y2 = y2.subs({diff(y,x):y1, x:x0, y:y0})\n",
    "\n",
    "y3 = diff(y2, x)\n",
    "y3 = y3.subs({diff(y,x,2):y2, diff(y,x):y1, x:x0, y:y0})\n",
    "\n",
    "taylor_series = lambda x: y0 + (x - x0) * y1 + ((x - x0)**2 * y2 / factorial(2)) + ((x - x0)**3 * y3 / factorial(3)) \n",
    "\n",
    "display(taylor_series(1.2))"
   ]
  }
 ],
 "metadata": {
  "kernelspec": {
   "display_name": "Python 3",
   "language": "python",
   "name": "python3"
  },
  "language_info": {
   "codemirror_mode": {
    "name": "ipython",
    "version": 3
   },
   "file_extension": ".py",
   "mimetype": "text/x-python",
   "name": "python",
   "nbconvert_exporter": "python",
   "pygments_lexer": "ipython3",
   "version": "3.13.3"
  },
  "widgets": {
   "application/vnd.jupyter.widget-state+json": {
    "state": {},
    "version_major": 2,
    "version_minor": 0
   }
  }
 },
 "nbformat": 4,
 "nbformat_minor": 5
}
