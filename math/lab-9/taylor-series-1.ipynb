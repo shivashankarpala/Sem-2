{
 "cells": [
  {
   "cell_type": "code",
   "execution_count": 1,
   "id": "d0ac9bf6-ba28-4bd2-b669-4dd310581155",
   "metadata": {},
   "outputs": [
    {
     "name": "stdout",
     "output_type": "stream",
     "text": [
      "Required Values are: \n",
      "at x = 0.0, y = [1.41589972]\n",
      "at x = 0.1, y = [1.41589972]\n",
      "at x = 0.2, y = [1.41589972]\n",
      "at x = 0.30000000000000004, y = [1.41589972]\n"
     ]
    }
   ],
   "source": [
    "from numpy import *\n",
    "\n",
    "def taylor(derive, x, y, x_extreme, h):\n",
    "    X = []\n",
    "    Y = []\n",
    "    X.append(x)\n",
    "    Y.append(y)\n",
    "\n",
    "    while x < x_extreme:\n",
    "        D = derive(x,y)\n",
    "        H = 1.0\n",
    "\n",
    "        for j in range(3):\n",
    "            H = H*h /(j+1)\n",
    "            y += D[j] * H\n",
    "\n",
    "        x += h\n",
    "        X.append(x)\n",
    "        Y.append(y)\n",
    "    return array(X), array(Y)\n",
    "\n",
    "def derive(x, y):\n",
    "    D = zeros((4,1))\n",
    "\n",
    "    D[0] = [2*y[0] + 3*exp(x)]\n",
    "    D[1] = [4*y[0] + 9*exp(x)]\n",
    "    D[2] = [8*y[0] + 21*exp(x)]\n",
    "    D[3] = [16*y[0] + 45*exp(x)]\n",
    "    return D\n",
    "\n",
    "x = 0.0\n",
    "x_extreme = 0.3\n",
    "y = array([0.0])\n",
    "h = 0.1\n",
    "X,Y = taylor(derive, x, y, x_extreme, h)\n",
    "print('Required Values are: ')\n",
    "print(f'at x = {X[0]}, y = {Y[0]}')\n",
    "print(f'at x = {X[1]}, y = {Y[1]}')\n",
    "print(f'at x = {X[2]}, y = {Y[2]}')\n",
    "print(f'at x = {X[3]}, y = {Y[3]}')"
   ]
  },
  {
   "cell_type": "code",
   "execution_count": null,
   "id": "b3fd8d43-2901-41c9-bd7c-0a6adef1d0d4",
   "metadata": {},
   "outputs": [],
   "source": []
  }
 ],
 "metadata": {
  "kernelspec": {
   "display_name": "Python 3 (ipykernel)",
   "language": "python",
   "name": "python3"
  },
  "language_info": {
   "codemirror_mode": {
    "name": "ipython",
    "version": 3
   },
   "file_extension": ".py",
   "mimetype": "text/x-python",
   "name": "python",
   "nbconvert_exporter": "python",
   "pygments_lexer": "ipython3",
   "version": "3.11.7"
  },
  "widgets": {
   "application/vnd.jupyter.widget-state+json": {
    "state": {},
    "version_major": 2,
    "version_minor": 0
   }
  }
 },
 "nbformat": 4,
 "nbformat_minor": 5
}
